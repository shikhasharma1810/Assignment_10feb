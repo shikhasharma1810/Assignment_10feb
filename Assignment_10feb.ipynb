{
 "cells": [
  {
   "cell_type": "code",
   "execution_count": null,
   "id": "6dcc2eca-5ba0-4d46-ae76-fd6df0005f65",
   "metadata": {},
   "outputs": [],
   "source": [
    "1.Which function is used to open a file? What are the different modes of opening a file? Explain each mode of file opening.\n",
    "\n",
    "In Python, we use the open() method to open files. Open is an bulit function enables to open file and perform different functions.\n",
    "Different Modes to Open a File in Python:\n",
    " \n",
    "'r'       open for reading (default)\n",
    "          f=open('test1.txt','r')\n",
    "    \n",
    "'w'       open for writing, truncating the file first\n",
    "          f=open('test1.txt','w')\n",
    "    \n",
    "'x'       create a new file and open it for writing\n",
    "\n",
    "'a'       open for writing, appending to the end of the file if it exists\n",
    "\n",
    "'b'       binary mode\n",
    "\n",
    "'t'       text mode (default)\n",
    "\n",
    "'+'       open a disk file for updating (reading and writing)\n",
    "\n",
    "'U'       universal newline mode (deprecated)"
   ]
  },
  {
   "cell_type": "code",
   "execution_count": null,
   "id": "2a5347f7-cb56-453f-8b92-c679d5635241",
   "metadata": {},
   "outputs": [],
   "source": [
    "2. Why close() function is used? Why is it important to close a file?\n",
    "\n",
    "The close() method closes an open file. We should always close your files, in some cases, due to buffering, changes made to\n",
    "a file may not show until you close the file.\n",
    "Syntax: file.close()\n",
    "\n",
    "It’s important to close files in Python. Because files are limited resources managed by the operating system, making sure\n",
    "files are closed after use will protect against hard-to-debug issues like running out of file handles or experiencing\n",
    "corrupted data."
   ]
  },
  {
   "cell_type": "code",
   "execution_count": 7,
   "id": "dc3398ec-1fc9-479f-983e-25711f87c600",
   "metadata": {},
   "outputs": [
    {
     "data": {
      "text/plain": [
       "'I want to become a Data Scientist'"
      ]
     },
     "execution_count": 7,
     "metadata": {},
     "output_type": "execute_result"
    }
   ],
   "source": [
    "# 3. Write a python program to create a text file. Write ‘I want to become a Data Scientist’ in that file. \n",
    "# Then close the file. Open this file and read the content of the file.  \n",
    "\n",
    "f=open('grace.txt','w')\n",
    "f.write('I want to become a Data Scientist')\n",
    "f.close()\n",
    "f=open('grace.txt','r')\n",
    "f.read()"
   ]
  },
  {
   "cell_type": "code",
   "execution_count": null,
   "id": "bd45af3b-6a00-4bc5-84ea-fe1125c130dd",
   "metadata": {},
   "outputs": [],
   "source": [
    "4. Explain the following with python code: read(), readline() and readlines().\n",
    "\n",
    "Python allows you to read the contents of a file using methods such as:\n",
    "read()\n",
    "readline()\n",
    "readline()\n",
    "\n",
    "Python read(): The read method reads the entire contents of a file and returns it as a string.\n",
    " \n",
    "with open(\"file.txt\", \"r\") as file:\n",
    "    content = file.read()\n",
    "    print(content)\n",
    "    \n",
    "Python readline(): The readline method reads a single line from a file and returns it as a string. This means that if we\n",
    "use readline, we can read the contents of a file line by line, which can be useful for processing large files that \n",
    "do not fit in memory.\n",
    "\n",
    "with open(\"file.txt\", \"r\") as file:\n",
    "    line = file.readline()\n",
    "    while line:\n",
    "        print(line.strip())\n",
    "        line = file.readline()\n",
    "In the above example, the while loop continues to read lines from the file until readline returns an empty string, \n",
    "indicating the end of the file. The strip method is used to remove the line terminator from each line.\n",
    "\n",
    "Python readlines(): The readlines method reads the entire contents of a file and returns it as a list of strings, where \n",
    "each element of the list is a single line of the file. Python readlines reads the whole file into memory, which can be \n",
    "problematic if the file is very large. In such cases, its usually better to use readline and process the file one line at\n",
    "a time. If we want to remove the line terminator characters (\\n or \\r\\n) from each line, we can use the strip method:\n",
    "  \n",
    " with open(\"file.txt\", \"r\") as file:\n",
    "    lines = file.readlines()\n",
    "    for line in lines:\n",
    "        print(line.strip())"
   ]
  },
  {
   "cell_type": "code",
   "execution_count": null,
   "id": "44ad7955-4ac0-4962-9a92-97c74058c0dc",
   "metadata": {},
   "outputs": [],
   "source": [
    "5. Explain why with statement is used with open(). What is the advantage of using with statement and open() together?\n",
    "\n",
    "The with statement works with the open() function to open a file. Unlike open() where we have to close the file with the \n",
    "close() method, the with statement closes the file for us without our telling it to. This is because the with statement\n",
    "calls 2 built-in methods behind the scene – __enter()__ and __exit()__. The __exit()__ method closes the file when the operation\n",
    "we specify is done.\n",
    "\n",
    "The with statement simplifies exception handling by encapsulating common preparation and cleanup tasks.\n",
    "The with statement helps avoiding bugs and leaks by ensuring that a resource is properly released when the code using the\n",
    "resource is completely executed. The with statement is popularly used with file streams."
   ]
  },
  {
   "cell_type": "code",
   "execution_count": 12,
   "id": "a8222014-c8f1-4cf7-9fae-5eadd4c98b7a",
   "metadata": {},
   "outputs": [
    {
     "name": "stdin",
     "output_type": "stream",
     "text": [
      "Enter the name of the employee:  Shikha\n",
      "Enter the name of the employee:  Khushi\n",
      "Enter the name of the employee:  Nikki\n"
     ]
    },
    {
     "name": "stdout",
     "output_type": "stream",
     "text": [
      "Data is written into the file.\n"
     ]
    }
   ],
   "source": [
    "# 6.Explain the write() and writelines() functions. Give a suitable example.\n",
    "\n",
    "# write() function: The write() function will write the content in the file without adding any extra characters.\n",
    "\n",
    "# Syntax: file_name.write(content)\n",
    "# As per the syntax, the string that is passed to the write() function is written into the opened file. The string may include\n",
    "# numbers, special characters, or symbols. While writing data to a file, we must know that the write function does not add a \n",
    "# newline character(\\n) to the end of the string. The write() function returns None.\n",
    "\n",
    "file = open(\"Employees.txt\", \"w\")\n",
    "\n",
    "for i in range(3):\n",
    "    name = input(\"Enter the name of the employee: \")\n",
    "    file.write(name)\n",
    "    file.write(\"\\n\")\n",
    "\n",
    "file.close()\n",
    "\n",
    "print(\"Data is written into the file.\")"
   ]
  },
  {
   "cell_type": "code",
   "execution_count": 11,
   "id": "b3254727-0b09-48f4-9d87-f319108a877b",
   "metadata": {},
   "outputs": [
    {
     "name": "stdin",
     "output_type": "stream",
     "text": [
      "Enter the name of the employee:  Sunil\n",
      "Enter the name of the employee:  Mihir\n",
      "Enter the name of the employee:  Surya\n"
     ]
    },
    {
     "name": "stdout",
     "output_type": "stream",
     "text": [
      "Data is written into the file.\n"
     ]
    }
   ],
   "source": [
    "# writelines() function: This function writes the content of a list to a file.\n",
    "\n",
    "# Syntax: file_name.writelines(list_of_lines)\n",
    "# As per the syntax, the list of strings that is passed to the writelines() function is written into the opened file. \n",
    "# Similar to the write() function, the writelines() function does not add a newline character(\\n) to the end of the string.\n",
    "\n",
    "file1 = open(\"Employees1.txt\", \"w\")\n",
    "lst = []\n",
    "for i in range(3):\n",
    "    name = input(\"Enter the name of the employee: \")\n",
    "    lst.append(name + '\\n')\n",
    "    \n",
    "file1.writelines(lst)\n",
    "file1.close()\n",
    "print(\"Data is written into the file.\")"
   ]
  },
  {
   "cell_type": "code",
   "execution_count": null,
   "id": "c4521779-671f-4c7b-a845-931750b00b81",
   "metadata": {},
   "outputs": [],
   "source": []
  }
 ],
 "metadata": {
  "kernelspec": {
   "display_name": "Python 3 (ipykernel)",
   "language": "python",
   "name": "python3"
  },
  "language_info": {
   "codemirror_mode": {
    "name": "ipython",
    "version": 3
   },
   "file_extension": ".py",
   "mimetype": "text/x-python",
   "name": "python",
   "nbconvert_exporter": "python",
   "pygments_lexer": "ipython3",
   "version": "3.10.8"
  }
 },
 "nbformat": 4,
 "nbformat_minor": 5
}
